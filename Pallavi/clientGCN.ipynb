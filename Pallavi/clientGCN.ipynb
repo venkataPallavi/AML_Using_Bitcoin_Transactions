{
 "cells": [
  {
   "cell_type": "code",
   "execution_count": 1,
   "id": "adca2c9d-283b-4cb6-806b-42166cdbfc27",
   "metadata": {},
   "outputs": [],
   "source": [
    "import flwr as fl\n",
    "import numpy as np\n",
    "import tensorflow as tf\n",
    "import pandas as pd"
   ]
  },
  {
   "cell_type": "code",
   "execution_count": 2,
   "id": "bd22e5b6-2f65-4e1d-8723-3474896396ad",
   "metadata": {},
   "outputs": [
    {
     "name": "stderr",
     "output_type": "stream",
     "text": [
      "2023-12-28 23:45:51.468470: E tensorflow/stream_executor/cuda/cuda_driver.cc:271] failed call to cuInit: CUDA_ERROR_NO_DEVICE: no CUDA-capable device is detected\n",
      "2023-12-28 23:45:51.468724: I tensorflow/stream_executor/cuda/cuda_diagnostics.cc:156] kernel driver does not appear to be running on this host (karthik-HP-Pavilion-Laptop-15-eg2xxx): /proc/driver/nvidia/version does not exist\n",
      "2023-12-28 23:45:51.471183: I tensorflow/core/platform/cpu_feature_guard.cc:151] This TensorFlow binary is optimized with oneAPI Deep Neural Network Library (oneDNN) to use the following CPU instructions in performance-critical operations:  AVX2 FMA\n",
      "To enable them in other operations, rebuild TensorFlow with the appropriate compiler flags.\n"
     ]
    }
   ],
   "source": [
    "edges = pd.read_csv(\"elliptic_txs_edgelist.csv\")\n",
    "features = pd.read_csv(\"elliptic_txs_features.csv\",header=None)\n",
    "classes = pd.read_csv(\"elliptic_txs_classes.csv\")\n",
    "tx_features = [\"tx_feat_\"+str(i) for i in range(2,95)]\n",
    "agg_features = [\"agg_feat_\"+str(i) for i in range(1,73)]\n",
    "features.columns = [\"txId\",\"time_step\"] + tx_features + agg_features\n",
    "features = pd.merge(features,classes,left_on=\"txId\",right_on=\"txId\",how='left')\n",
    "features['class'] = features['class'].apply(lambda x: '0' if x == \"unknown\" else x)\n",
    "features= features[features['class'] != '0' ]\n",
    "def check(name):\n",
    "  if(name in unique):\n",
    "    return name \n",
    "  else : \n",
    "    return -1 \n",
    "unique = features['txId'].unique()\n",
    "edges[\"txId1\"] = edges[\"txId1\"].apply(lambda name: check(name))\n",
    "edges[\"txId2\"] = edges[\"txId2\"].apply(lambda name: check(name))\n",
    "edges = edges[edges[\"txId1\"] != -1 ]\n",
    "edges = edges[edges[\"txId2\"] != -1 ]\n",
    "class_values = sorted(features[\"class\"].unique())\n",
    "features_idx = {name: idx for idx, name in enumerate(sorted(features[\"txId\"].unique()))}\n",
    "features[\"txId\"] = features[\"txId\"].apply(lambda name: features_idx[name])\n",
    "edges[\"txId1\"] = edges[\"txId1\"].apply(lambda name: features_idx[name])\n",
    "edges[\"txId2\"] = edges[\"txId2\"].apply(lambda name: features_idx[name])\n",
    "edges2 = edges[[\"txId1\", \"txId2\"]].to_numpy().T\n",
    "edge_weights = tf.ones(shape=edges2.shape[1])\n",
    "node_features = tf.cast(\n",
    "    features.sort_values(\"txId\")[tx_features].to_numpy(), dtype=tf.dtypes.float32\n",
    ")\n",
    "graph_info = (node_features, edges2, edge_weights)"
   ]
  },
  {
   "cell_type": "code",
   "execution_count": 3,
   "id": "eea6ab8e-0165-4180-b535-4fc985bf3e99",
   "metadata": {},
   "outputs": [],
   "source": [
    "from sklearn.model_selection import train_test_split\n",
    "X = features[tx_features + ['txId'] ]\n",
    "y = features['class']\n",
    "y = y.apply(lambda x: 0 if x == '2' else 1 )\n",
    "X_train, X_test, y_train, y_test = train_test_split(X,y,test_size=0.3,random_state=117,shuffle=True)\n",
    "x_train = X_train.txId.to_numpy()\n",
    "x_test = X_test.txId.to_numpy()"
   ]
  },
  {
   "cell_type": "code",
   "execution_count": 4,
   "id": "3aadb27a-722f-49c1-8bd1-8565a62b00db",
   "metadata": {},
   "outputs": [],
   "source": [
    "model_path =\"/home/karthik/final\"\n",
    "class GCNFlowerClient(fl.client.NumPyClient):\n",
    "    def __init__(self, model_path):\n",
    "        # Load the pre-trained GNN model\n",
    "        self.gnn_model = tf.keras.models.load_model(model_path)\n",
    "        print(\"Loaded model summary:\")\n",
    "        self.gnn_model.summary()\n",
    "\n",
    "    def get_parameters(self, config):\n",
    "        # Get the current parameters of the GNN model\n",
    "        parameters = self.gnn_model.get_weights()\n",
    "        print(\"Number of parameters:\", len(parameters))\n",
    "        return parameters\n",
    "\n",
    "    def fit(self, parameters, config):\n",
    "        self.gnn_model.set_weights(parameters)\n",
    "        print(\"Number of weights in parameters:\", len(parameters))\n",
    "        \n",
    "        # Local training on the client side using local data\n",
    "        self.gnn_model.fit(x_train, y_train, epochs=1, validation_data=(x_test, y_test), verbose=0)\n",
    "        \n",
    "        # Return the updated weights after local training\n",
    "        return self.gnn_model.get_weights(), len(x_train), {}\n",
    "\n",
    "    def evaluate(self, parameters, config):\n",
    "        self.gnn_model.set_weights(parameters)\n",
    "        loss, accuracy = self.gnn_model.evaluate(x_test, y_test)\n",
    "        return loss, len(x_test), {\"accuracy\": float(accuracy)}\n"
   ]
  },
  {
   "cell_type": "code",
   "execution_count": 5,
   "id": "15a8ce85-b766-4904-a3dc-250cd0099fcc",
   "metadata": {},
   "outputs": [
    {
     "name": "stdout",
     "output_type": "stream",
     "text": [
      "Loaded model summary:\n",
      "Model: \"gnn_model\"\n",
      "_________________________________________________________________\n",
      " Layer (type)                Output Shape              Param #   \n",
      "=================================================================\n",
      " preprocess (Sequential)     (None, 32)                4564      \n",
      "                                                                 \n",
      " graph_conv1 (GraphConvLayer  multiple                 5888      \n",
      " )                                                               \n",
      "                                                                 \n",
      " graph_conv2 (GraphConvLayer  multiple                 5888      \n",
      " )                                                               \n",
      "                                                                 \n",
      " postprocess (Sequential)    (None, 32)                2368      \n",
      "                                                                 \n",
      " logits (Dense)              multiple                  66        \n",
      "                                                                 \n",
      "=================================================================\n",
      "Total params: 18,774\n",
      "Trainable params: 17,756\n",
      "Non-trainable params: 1,018\n",
      "_________________________________________________________________\n"
     ]
    }
   ],
   "source": [
    "flower_client = GCNFlowerClient(model_path)"
   ]
  },
  {
   "cell_type": "code",
   "execution_count": 6,
   "id": "f58a8450-2a0b-46f5-81a8-24bee3db4826",
   "metadata": {},
   "outputs": [
    {
     "name": "stderr",
     "output_type": "stream",
     "text": [
      "INFO flwr 2023-12-28 23:45:58,539 | grpc.py:49 | Opened insecure gRPC connection (no certificates were passed)\n",
      "DEBUG flwr 2023-12-28 23:45:58,579 | connection.py:42 | ChannelConnectivity.IDLE\n",
      "DEBUG flwr 2023-12-28 23:45:58,587 | connection.py:42 | ChannelConnectivity.READY\n"
     ]
    },
    {
     "name": "stdout",
     "output_type": "stream",
     "text": [
      "Number of parameters: 74\n",
      "Number of weights in parameters: 74\n"
     ]
    },
    {
     "name": "stderr",
     "output_type": "stream",
     "text": [
      "DEBUG flwr 2023-12-28 23:46:02,459 | connection.py:139 | gRPC channel closed\n"
     ]
    },
    {
     "ename": "ValueError",
     "evalue": "in user code:\n\n    File \"/home/karthik/.local/lib/python3.10/site-packages/keras/engine/training.py\", line 1021, in train_function  *\n        return step_function(self, iterator)\n    File \"/home/karthik/.local/lib/python3.10/site-packages/keras/engine/training.py\", line 1010, in step_function  **\n        outputs = model.distribute_strategy.run(run_step, args=(data,))\n    File \"/home/karthik/.local/lib/python3.10/site-packages/keras/engine/training.py\", line 1000, in run_step  **\n        outputs = model.train_step(data)\n    File \"/home/karthik/.local/lib/python3.10/site-packages/keras/engine/training.py\", line 859, in train_step\n        y_pred = self(x, training=True)\n    File \"/home/karthik/.local/lib/python3.10/site-packages/keras/utils/traceback_utils.py\", line 67, in error_handler\n        raise e.with_traceback(filtered_tb) from None\n\n    ValueError: Exception encountered when calling layer \"gnn_model\" (type GNNNodeClassifier).\n    \n    Could not find matching concrete function to call loaded from the SavedModel. Got:\n      Positional arguments (2 total):\n        * Tensor(\"input_node_indices:0\", shape=(None,), dtype=int64)\n        * True\n      Keyword arguments: {}\n    \n     Expected these arguments to match one of the following 4 option(s):\n    \n    Option 1:\n      Positional arguments (2 total):\n        * [TensorSpec(shape=(), dtype=tf.int32, name='input_node_indices/0'), TensorSpec(shape=(), dtype=tf.int32, name='input_node_indices/1'), TensorSpec(shape=(), dtype=tf.int32, name='input_node_indices/2')]\n        * False\n      Keyword arguments: {}\n    \n    Option 2:\n      Positional arguments (2 total):\n        * [TensorSpec(shape=(), dtype=tf.int32, name='input_node_indices/0'), TensorSpec(shape=(), dtype=tf.int32, name='input_node_indices/1'), TensorSpec(shape=(), dtype=tf.int32, name='input_node_indices/2')]\n        * True\n      Keyword arguments: {}\n    \n    Option 3:\n      Positional arguments (2 total):\n        * [TensorSpec(shape=(), dtype=tf.int32, name='input_1'), TensorSpec(shape=(), dtype=tf.int32, name='input_2'), TensorSpec(shape=(), dtype=tf.int32, name='input_3')]\n        * False\n      Keyword arguments: {}\n    \n    Option 4:\n      Positional arguments (2 total):\n        * [TensorSpec(shape=(), dtype=tf.int32, name='input_1'), TensorSpec(shape=(), dtype=tf.int32, name='input_2'), TensorSpec(shape=(), dtype=tf.int32, name='input_3')]\n        * True\n      Keyword arguments: {}\n    \n    Call arguments received:\n      • args=('tf.Tensor(shape=(None,), dtype=int64)',)\n      • kwargs={'training': 'True'}\n",
     "output_type": "error",
     "traceback": [
      "\u001b[0;31m---------------------------------------------------------------------------\u001b[0m",
      "\u001b[0;31mValueError\u001b[0m                                Traceback (most recent call last)",
      "Cell \u001b[0;32mIn[6], line 1\u001b[0m\n\u001b[0;32m----> 1\u001b[0m \u001b[43mfl\u001b[49m\u001b[38;5;241;43m.\u001b[39;49m\u001b[43mclient\u001b[49m\u001b[38;5;241;43m.\u001b[39;49m\u001b[43mstart_numpy_client\u001b[49m\u001b[43m(\u001b[49m\n\u001b[1;32m      2\u001b[0m \u001b[43m    \u001b[49m\u001b[43mserver_address\u001b[49m\u001b[38;5;241;43m=\u001b[39;49m\u001b[38;5;124;43m\"\u001b[39;49m\u001b[38;5;124;43m127.0.0.1:5010\u001b[39;49m\u001b[38;5;124;43m\"\u001b[39;49m\u001b[43m,\u001b[49m\n\u001b[1;32m      3\u001b[0m \u001b[43m    \u001b[49m\u001b[43mclient\u001b[49m\u001b[38;5;241;43m=\u001b[39;49m\u001b[43mflower_client\u001b[49m\n\u001b[1;32m      4\u001b[0m \u001b[43m)\u001b[49m\n",
      "File \u001b[0;32m~/.local/lib/python3.10/site-packages/flwr/client/app.py:288\u001b[0m, in \u001b[0;36mstart_numpy_client\u001b[0;34m(server_address, client, grpc_max_message_length, root_certificates, rest, transport)\u001b[0m\n\u001b[1;32m    237\u001b[0m \u001b[38;5;250m\u001b[39m\u001b[38;5;124;03m\"\"\"Start a Flower NumPyClient which connects to a gRPC server.\u001b[39;00m\n\u001b[1;32m    238\u001b[0m \n\u001b[1;32m    239\u001b[0m \u001b[38;5;124;03mParameters\u001b[39;00m\n\u001b[0;32m   (...)\u001b[0m\n\u001b[1;32m    285\u001b[0m \u001b[38;5;124;03m>>> )\u001b[39;00m\n\u001b[1;32m    286\u001b[0m \u001b[38;5;124;03m\"\"\"\u001b[39;00m\n\u001b[1;32m    287\u001b[0m \u001b[38;5;66;03m# Start\u001b[39;00m\n\u001b[0;32m--> 288\u001b[0m \u001b[43mstart_client\u001b[49m\u001b[43m(\u001b[49m\n\u001b[1;32m    289\u001b[0m \u001b[43m    \u001b[49m\u001b[43mserver_address\u001b[49m\u001b[38;5;241;43m=\u001b[39;49m\u001b[43mserver_address\u001b[49m\u001b[43m,\u001b[49m\n\u001b[1;32m    290\u001b[0m \u001b[43m    \u001b[49m\u001b[43mclient\u001b[49m\u001b[38;5;241;43m=\u001b[39;49m\u001b[43m_wrap_numpy_client\u001b[49m\u001b[43m(\u001b[49m\u001b[43mclient\u001b[49m\u001b[38;5;241;43m=\u001b[39;49m\u001b[43mclient\u001b[49m\u001b[43m)\u001b[49m\u001b[43m,\u001b[49m\n\u001b[1;32m    291\u001b[0m \u001b[43m    \u001b[49m\u001b[43mgrpc_max_message_length\u001b[49m\u001b[38;5;241;43m=\u001b[39;49m\u001b[43mgrpc_max_message_length\u001b[49m\u001b[43m,\u001b[49m\n\u001b[1;32m    292\u001b[0m \u001b[43m    \u001b[49m\u001b[43mroot_certificates\u001b[49m\u001b[38;5;241;43m=\u001b[39;49m\u001b[43mroot_certificates\u001b[49m\u001b[43m,\u001b[49m\n\u001b[1;32m    293\u001b[0m \u001b[43m    \u001b[49m\u001b[43mrest\u001b[49m\u001b[38;5;241;43m=\u001b[39;49m\u001b[43mrest\u001b[49m\u001b[43m,\u001b[49m\n\u001b[1;32m    294\u001b[0m \u001b[43m    \u001b[49m\u001b[43mtransport\u001b[49m\u001b[38;5;241;43m=\u001b[39;49m\u001b[43mtransport\u001b[49m\u001b[43m,\u001b[49m\n\u001b[1;32m    295\u001b[0m \u001b[43m\u001b[49m\u001b[43m)\u001b[49m\n",
      "File \u001b[0;32m~/.local/lib/python3.10/site-packages/flwr/client/app.py:205\u001b[0m, in \u001b[0;36mstart_client\u001b[0;34m(server_address, client, grpc_max_message_length, root_certificates, rest, transport)\u001b[0m\n\u001b[1;32m    203\u001b[0m     time\u001b[38;5;241m.\u001b[39msleep(\u001b[38;5;241m3\u001b[39m)  \u001b[38;5;66;03m# Wait for 3s before asking again\u001b[39;00m\n\u001b[1;32m    204\u001b[0m     \u001b[38;5;28;01mcontinue\u001b[39;00m\n\u001b[0;32m--> 205\u001b[0m task_res, sleep_duration, keep_going \u001b[38;5;241m=\u001b[39m \u001b[43mhandle\u001b[49m\u001b[43m(\u001b[49m\u001b[43mclient\u001b[49m\u001b[43m,\u001b[49m\u001b[43m \u001b[49m\u001b[43mtask_ins\u001b[49m\u001b[43m)\u001b[49m\n\u001b[1;32m    206\u001b[0m send(task_res)\n\u001b[1;32m    207\u001b[0m \u001b[38;5;28;01mif\u001b[39;00m \u001b[38;5;129;01mnot\u001b[39;00m keep_going:\n",
      "File \u001b[0;32m~/.local/lib/python3.10/site-packages/flwr/client/message_handler/message_handler.py:82\u001b[0m, in \u001b[0;36mhandle\u001b[0;34m(client, task_ins)\u001b[0m\n\u001b[1;32m     80\u001b[0m         \u001b[38;5;28;01mreturn\u001b[39;00m task_res, \u001b[38;5;241m0\u001b[39m, \u001b[38;5;28;01mTrue\u001b[39;00m\n\u001b[1;32m     81\u001b[0m     \u001b[38;5;28;01mraise\u001b[39;00m \u001b[38;5;167;01mNotImplementedError\u001b[39;00m()\n\u001b[0;32m---> 82\u001b[0m client_msg, sleep_duration, keep_going \u001b[38;5;241m=\u001b[39m \u001b[43mhandle_legacy_message\u001b[49m\u001b[43m(\u001b[49m\u001b[43mclient\u001b[49m\u001b[43m,\u001b[49m\u001b[43m \u001b[49m\u001b[43mserver_msg\u001b[49m\u001b[43m)\u001b[49m\n\u001b[1;32m     83\u001b[0m task_res \u001b[38;5;241m=\u001b[39m wrap_client_message_in_task_res(client_msg)\n\u001b[1;32m     84\u001b[0m \u001b[38;5;28;01mreturn\u001b[39;00m task_res, sleep_duration, keep_going\n",
      "File \u001b[0;32m~/.local/lib/python3.10/site-packages/flwr/client/message_handler/message_handler.py:119\u001b[0m, in \u001b[0;36mhandle_legacy_message\u001b[0;34m(client, server_msg)\u001b[0m\n\u001b[1;32m    117\u001b[0m     \u001b[38;5;28;01mreturn\u001b[39;00m _get_parameters(client, server_msg\u001b[38;5;241m.\u001b[39mget_parameters_ins), \u001b[38;5;241m0\u001b[39m, \u001b[38;5;28;01mTrue\u001b[39;00m\n\u001b[1;32m    118\u001b[0m \u001b[38;5;28;01mif\u001b[39;00m field \u001b[38;5;241m==\u001b[39m \u001b[38;5;124m\"\u001b[39m\u001b[38;5;124mfit_ins\u001b[39m\u001b[38;5;124m\"\u001b[39m:\n\u001b[0;32m--> 119\u001b[0m     \u001b[38;5;28;01mreturn\u001b[39;00m \u001b[43m_fit\u001b[49m\u001b[43m(\u001b[49m\u001b[43mclient\u001b[49m\u001b[43m,\u001b[49m\u001b[43m \u001b[49m\u001b[43mserver_msg\u001b[49m\u001b[38;5;241;43m.\u001b[39;49m\u001b[43mfit_ins\u001b[49m\u001b[43m)\u001b[49m, \u001b[38;5;241m0\u001b[39m, \u001b[38;5;28;01mTrue\u001b[39;00m\n\u001b[1;32m    120\u001b[0m \u001b[38;5;28;01mif\u001b[39;00m field \u001b[38;5;241m==\u001b[39m \u001b[38;5;124m\"\u001b[39m\u001b[38;5;124mevaluate_ins\u001b[39m\u001b[38;5;124m\"\u001b[39m:\n\u001b[1;32m    121\u001b[0m     \u001b[38;5;28;01mreturn\u001b[39;00m _evaluate(client, server_msg\u001b[38;5;241m.\u001b[39mevaluate_ins), \u001b[38;5;241m0\u001b[39m, \u001b[38;5;28;01mTrue\u001b[39;00m\n",
      "File \u001b[0;32m~/.local/lib/python3.10/site-packages/flwr/client/message_handler/message_handler.py:178\u001b[0m, in \u001b[0;36m_fit\u001b[0;34m(client, fit_msg)\u001b[0m\n\u001b[1;32m    175\u001b[0m fit_ins \u001b[38;5;241m=\u001b[39m serde\u001b[38;5;241m.\u001b[39mfit_ins_from_proto(fit_msg)\n\u001b[1;32m    177\u001b[0m \u001b[38;5;66;03m# Perform fit\u001b[39;00m\n\u001b[0;32m--> 178\u001b[0m fit_res \u001b[38;5;241m=\u001b[39m \u001b[43mmaybe_call_fit\u001b[49m\u001b[43m(\u001b[49m\n\u001b[1;32m    179\u001b[0m \u001b[43m    \u001b[49m\u001b[43mclient\u001b[49m\u001b[38;5;241;43m=\u001b[39;49m\u001b[43mclient\u001b[49m\u001b[43m,\u001b[49m\n\u001b[1;32m    180\u001b[0m \u001b[43m    \u001b[49m\u001b[43mfit_ins\u001b[49m\u001b[38;5;241;43m=\u001b[39;49m\u001b[43mfit_ins\u001b[49m\u001b[43m,\u001b[49m\n\u001b[1;32m    181\u001b[0m \u001b[43m\u001b[49m\u001b[43m)\u001b[49m\n\u001b[1;32m    183\u001b[0m \u001b[38;5;66;03m# Serialize fit result\u001b[39;00m\n\u001b[1;32m    184\u001b[0m fit_res_proto \u001b[38;5;241m=\u001b[39m serde\u001b[38;5;241m.\u001b[39mfit_res_to_proto(fit_res)\n",
      "File \u001b[0;32m~/.local/lib/python3.10/site-packages/flwr/client/client.py:217\u001b[0m, in \u001b[0;36mmaybe_call_fit\u001b[0;34m(client, fit_ins)\u001b[0m\n\u001b[1;32m    209\u001b[0m     \u001b[38;5;28;01mreturn\u001b[39;00m FitRes(\n\u001b[1;32m    210\u001b[0m         status\u001b[38;5;241m=\u001b[39mstatus,\n\u001b[1;32m    211\u001b[0m         parameters\u001b[38;5;241m=\u001b[39mParameters(tensor_type\u001b[38;5;241m=\u001b[39m\u001b[38;5;124m\"\u001b[39m\u001b[38;5;124m\"\u001b[39m, tensors\u001b[38;5;241m=\u001b[39m[]),\n\u001b[1;32m    212\u001b[0m         num_examples\u001b[38;5;241m=\u001b[39m\u001b[38;5;241m0\u001b[39m,\n\u001b[1;32m    213\u001b[0m         metrics\u001b[38;5;241m=\u001b[39m{},\n\u001b[1;32m    214\u001b[0m     )\n\u001b[1;32m    216\u001b[0m \u001b[38;5;66;03m# If the client implements `fit`, call it\u001b[39;00m\n\u001b[0;32m--> 217\u001b[0m \u001b[38;5;28;01mreturn\u001b[39;00m \u001b[43mclient\u001b[49m\u001b[38;5;241;43m.\u001b[39;49m\u001b[43mfit\u001b[49m\u001b[43m(\u001b[49m\u001b[43mfit_ins\u001b[49m\u001b[43m)\u001b[49m\n",
      "File \u001b[0;32m~/.local/lib/python3.10/site-packages/flwr/client/app.py:333\u001b[0m, in \u001b[0;36m_fit\u001b[0;34m(self, ins)\u001b[0m\n\u001b[1;32m    330\u001b[0m parameters: NDArrays \u001b[38;5;241m=\u001b[39m parameters_to_ndarrays(ins\u001b[38;5;241m.\u001b[39mparameters)\n\u001b[1;32m    332\u001b[0m \u001b[38;5;66;03m# Train\u001b[39;00m\n\u001b[0;32m--> 333\u001b[0m results \u001b[38;5;241m=\u001b[39m \u001b[38;5;28;43mself\u001b[39;49m\u001b[38;5;241;43m.\u001b[39;49m\u001b[43mnumpy_client\u001b[49m\u001b[38;5;241;43m.\u001b[39;49m\u001b[43mfit\u001b[49m\u001b[43m(\u001b[49m\u001b[43mparameters\u001b[49m\u001b[43m,\u001b[49m\u001b[43m \u001b[49m\u001b[43mins\u001b[49m\u001b[38;5;241;43m.\u001b[39;49m\u001b[43mconfig\u001b[49m\u001b[43m)\u001b[49m  \u001b[38;5;66;03m# type: ignore\u001b[39;00m\n\u001b[1;32m    334\u001b[0m \u001b[38;5;28;01mif\u001b[39;00m \u001b[38;5;129;01mnot\u001b[39;00m (\n\u001b[1;32m    335\u001b[0m     \u001b[38;5;28mlen\u001b[39m(results) \u001b[38;5;241m==\u001b[39m \u001b[38;5;241m3\u001b[39m\n\u001b[1;32m    336\u001b[0m     \u001b[38;5;129;01mand\u001b[39;00m \u001b[38;5;28misinstance\u001b[39m(results[\u001b[38;5;241m0\u001b[39m], \u001b[38;5;28mlist\u001b[39m)\n\u001b[1;32m    337\u001b[0m     \u001b[38;5;129;01mand\u001b[39;00m \u001b[38;5;28misinstance\u001b[39m(results[\u001b[38;5;241m1\u001b[39m], \u001b[38;5;28mint\u001b[39m)\n\u001b[1;32m    338\u001b[0m     \u001b[38;5;129;01mand\u001b[39;00m \u001b[38;5;28misinstance\u001b[39m(results[\u001b[38;5;241m2\u001b[39m], \u001b[38;5;28mdict\u001b[39m)\n\u001b[1;32m    339\u001b[0m ):\n\u001b[1;32m    340\u001b[0m     \u001b[38;5;28;01mraise\u001b[39;00m \u001b[38;5;167;01mException\u001b[39;00m(EXCEPTION_MESSAGE_WRONG_RETURN_TYPE_FIT)\n",
      "Cell \u001b[0;32mIn[4], line 20\u001b[0m, in \u001b[0;36mGCNFlowerClient.fit\u001b[0;34m(self, parameters, config)\u001b[0m\n\u001b[1;32m     17\u001b[0m \u001b[38;5;28mprint\u001b[39m(\u001b[38;5;124m\"\u001b[39m\u001b[38;5;124mNumber of weights in parameters:\u001b[39m\u001b[38;5;124m\"\u001b[39m, \u001b[38;5;28mlen\u001b[39m(parameters))\n\u001b[1;32m     19\u001b[0m \u001b[38;5;66;03m# Local training on the client side using local data\u001b[39;00m\n\u001b[0;32m---> 20\u001b[0m \u001b[38;5;28;43mself\u001b[39;49m\u001b[38;5;241;43m.\u001b[39;49m\u001b[43mgnn_model\u001b[49m\u001b[38;5;241;43m.\u001b[39;49m\u001b[43mfit\u001b[49m\u001b[43m(\u001b[49m\u001b[43mx_train\u001b[49m\u001b[43m,\u001b[49m\u001b[43m \u001b[49m\u001b[43my_train\u001b[49m\u001b[43m,\u001b[49m\u001b[43m \u001b[49m\u001b[43mepochs\u001b[49m\u001b[38;5;241;43m=\u001b[39;49m\u001b[38;5;241;43m1\u001b[39;49m\u001b[43m,\u001b[49m\u001b[43m \u001b[49m\u001b[43mvalidation_data\u001b[49m\u001b[38;5;241;43m=\u001b[39;49m\u001b[43m(\u001b[49m\u001b[43mx_test\u001b[49m\u001b[43m,\u001b[49m\u001b[43m \u001b[49m\u001b[43my_test\u001b[49m\u001b[43m)\u001b[49m\u001b[43m,\u001b[49m\u001b[43m \u001b[49m\u001b[43mverbose\u001b[49m\u001b[38;5;241;43m=\u001b[39;49m\u001b[38;5;241;43m0\u001b[39;49m\u001b[43m)\u001b[49m\n\u001b[1;32m     22\u001b[0m \u001b[38;5;66;03m# Return the updated weights after local training\u001b[39;00m\n\u001b[1;32m     23\u001b[0m \u001b[38;5;28;01mreturn\u001b[39;00m \u001b[38;5;28mself\u001b[39m\u001b[38;5;241m.\u001b[39mgnn_model\u001b[38;5;241m.\u001b[39mget_weights(), \u001b[38;5;28mlen\u001b[39m(x_train), {}\n",
      "File \u001b[0;32m~/.local/lib/python3.10/site-packages/keras/utils/traceback_utils.py:67\u001b[0m, in \u001b[0;36mfilter_traceback.<locals>.error_handler\u001b[0;34m(*args, **kwargs)\u001b[0m\n\u001b[1;32m     65\u001b[0m \u001b[38;5;28;01mexcept\u001b[39;00m \u001b[38;5;167;01mException\u001b[39;00m \u001b[38;5;28;01mas\u001b[39;00m e:  \u001b[38;5;66;03m# pylint: disable=broad-except\u001b[39;00m\n\u001b[1;32m     66\u001b[0m   filtered_tb \u001b[38;5;241m=\u001b[39m _process_traceback_frames(e\u001b[38;5;241m.\u001b[39m__traceback__)\n\u001b[0;32m---> 67\u001b[0m   \u001b[38;5;28;01mraise\u001b[39;00m e\u001b[38;5;241m.\u001b[39mwith_traceback(filtered_tb) \u001b[38;5;28;01mfrom\u001b[39;00m \u001b[38;5;28;01mNone\u001b[39;00m\n\u001b[1;32m     68\u001b[0m \u001b[38;5;28;01mfinally\u001b[39;00m:\n\u001b[1;32m     69\u001b[0m   \u001b[38;5;28;01mdel\u001b[39;00m filtered_tb\n",
      "File \u001b[0;32m~/.local/lib/python3.10/site-packages/tensorflow/python/framework/func_graph.py:1147\u001b[0m, in \u001b[0;36mfunc_graph_from_py_func.<locals>.autograph_handler\u001b[0;34m(*args, **kwargs)\u001b[0m\n\u001b[1;32m   1145\u001b[0m \u001b[38;5;28;01mexcept\u001b[39;00m \u001b[38;5;167;01mException\u001b[39;00m \u001b[38;5;28;01mas\u001b[39;00m e:  \u001b[38;5;66;03m# pylint:disable=broad-except\u001b[39;00m\n\u001b[1;32m   1146\u001b[0m   \u001b[38;5;28;01mif\u001b[39;00m \u001b[38;5;28mhasattr\u001b[39m(e, \u001b[38;5;124m\"\u001b[39m\u001b[38;5;124mag_error_metadata\u001b[39m\u001b[38;5;124m\"\u001b[39m):\n\u001b[0;32m-> 1147\u001b[0m     \u001b[38;5;28;01mraise\u001b[39;00m e\u001b[38;5;241m.\u001b[39mag_error_metadata\u001b[38;5;241m.\u001b[39mto_exception(e)\n\u001b[1;32m   1148\u001b[0m   \u001b[38;5;28;01melse\u001b[39;00m:\n\u001b[1;32m   1149\u001b[0m     \u001b[38;5;28;01mraise\u001b[39;00m\n",
      "\u001b[0;31mValueError\u001b[0m: in user code:\n\n    File \"/home/karthik/.local/lib/python3.10/site-packages/keras/engine/training.py\", line 1021, in train_function  *\n        return step_function(self, iterator)\n    File \"/home/karthik/.local/lib/python3.10/site-packages/keras/engine/training.py\", line 1010, in step_function  **\n        outputs = model.distribute_strategy.run(run_step, args=(data,))\n    File \"/home/karthik/.local/lib/python3.10/site-packages/keras/engine/training.py\", line 1000, in run_step  **\n        outputs = model.train_step(data)\n    File \"/home/karthik/.local/lib/python3.10/site-packages/keras/engine/training.py\", line 859, in train_step\n        y_pred = self(x, training=True)\n    File \"/home/karthik/.local/lib/python3.10/site-packages/keras/utils/traceback_utils.py\", line 67, in error_handler\n        raise e.with_traceback(filtered_tb) from None\n\n    ValueError: Exception encountered when calling layer \"gnn_model\" (type GNNNodeClassifier).\n    \n    Could not find matching concrete function to call loaded from the SavedModel. Got:\n      Positional arguments (2 total):\n        * Tensor(\"input_node_indices:0\", shape=(None,), dtype=int64)\n        * True\n      Keyword arguments: {}\n    \n     Expected these arguments to match one of the following 4 option(s):\n    \n    Option 1:\n      Positional arguments (2 total):\n        * [TensorSpec(shape=(), dtype=tf.int32, name='input_node_indices/0'), TensorSpec(shape=(), dtype=tf.int32, name='input_node_indices/1'), TensorSpec(shape=(), dtype=tf.int32, name='input_node_indices/2')]\n        * False\n      Keyword arguments: {}\n    \n    Option 2:\n      Positional arguments (2 total):\n        * [TensorSpec(shape=(), dtype=tf.int32, name='input_node_indices/0'), TensorSpec(shape=(), dtype=tf.int32, name='input_node_indices/1'), TensorSpec(shape=(), dtype=tf.int32, name='input_node_indices/2')]\n        * True\n      Keyword arguments: {}\n    \n    Option 3:\n      Positional arguments (2 total):\n        * [TensorSpec(shape=(), dtype=tf.int32, name='input_1'), TensorSpec(shape=(), dtype=tf.int32, name='input_2'), TensorSpec(shape=(), dtype=tf.int32, name='input_3')]\n        * False\n      Keyword arguments: {}\n    \n    Option 4:\n      Positional arguments (2 total):\n        * [TensorSpec(shape=(), dtype=tf.int32, name='input_1'), TensorSpec(shape=(), dtype=tf.int32, name='input_2'), TensorSpec(shape=(), dtype=tf.int32, name='input_3')]\n        * True\n      Keyword arguments: {}\n    \n    Call arguments received:\n      • args=('tf.Tensor(shape=(None,), dtype=int64)',)\n      • kwargs={'training': 'True'}\n"
     ]
    }
   ],
   "source": [
    "fl.client.start_numpy_client(\n",
    "    server_address=\"127.0.0.1:5010\",\n",
    "    client=flower_client\n",
    ")"
   ]
  },
  {
   "cell_type": "code",
   "execution_count": null,
   "id": "8d38424a-811e-4fa8-a586-8f7ffcc3a3e7",
   "metadata": {},
   "outputs": [],
   "source": []
  }
 ],
 "metadata": {
  "kernelspec": {
   "display_name": "Python 3 (ipykernel)",
   "language": "python",
   "name": "python3"
  },
  "language_info": {
   "codemirror_mode": {
    "name": "ipython",
    "version": 3
   },
   "file_extension": ".py",
   "mimetype": "text/x-python",
   "name": "python",
   "nbconvert_exporter": "python",
   "pygments_lexer": "ipython3",
   "version": "3.10.12"
  }
 },
 "nbformat": 4,
 "nbformat_minor": 5
}
