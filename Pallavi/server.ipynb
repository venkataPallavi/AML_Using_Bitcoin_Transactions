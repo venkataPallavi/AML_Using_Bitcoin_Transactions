{
 "cells": [
  {
   "cell_type": "code",
   "execution_count": null,
   "id": "fbe58d87-b1ad-43c0-b13b-6928d5af53c2",
   "metadata": {},
   "outputs": [
    {
     "name": "stderr",
     "output_type": "stream",
     "text": [
      "INFO flwr 2023-12-28 23:45:09,209 | app.py:162 | Starting Flower server, config: ServerConfig(num_rounds=4, round_timeout=None)\n",
      "INFO flwr 2023-12-28 23:45:09,244 | app.py:175 | Flower ECE: gRPC server running (4 rounds), SSL is disabled\n",
      "INFO flwr 2023-12-28 23:45:09,247 | server.py:89 | Initializing global parameters\n",
      "INFO flwr 2023-12-28 23:45:09,248 | server.py:276 | Requesting initial parameters from one random client\n",
      "INFO flwr 2023-12-28 23:45:58,601 | server.py:280 | Received initial parameters from one random client\n",
      "INFO flwr 2023-12-28 23:45:58,603 | server.py:91 | Evaluating initial parameters\n",
      "INFO flwr 2023-12-28 23:45:58,605 | server.py:104 | FL starting\n",
      "DEBUG flwr 2023-12-28 23:46:02,029 | server.py:222 | fit_round 1: strategy sampled 2 clients (out of 2)\n",
      "DEBUG flwr 2023-12-28 23:46:02,286 | server.py:236 | fit_round 1 received 0 results and 2 failures\n"
     ]
    }
   ],
   "source": [
    "import flwr as fl\n",
    "\n",
    "fl.server.start_server(\n",
    "    server_address=\"0.0.0.0:5010\",\n",
    "    config=fl.server.ServerConfig(num_rounds=4)\n",
    ")"
   ]
  },
  {
   "cell_type": "code",
   "execution_count": null,
   "id": "a47112b8-a661-4e5b-9fc5-d053a84e4da0",
   "metadata": {},
   "outputs": [],
   "source": []
  },
  {
   "cell_type": "code",
   "execution_count": null,
   "id": "75215218",
   "metadata": {},
   "outputs": [],
   "source": []
  }
 ],
 "metadata": {
  "kernelspec": {
   "display_name": "Python 3 (ipykernel)",
   "language": "python",
   "name": "python3"
  },
  "language_info": {
   "codemirror_mode": {
    "name": "ipython",
    "version": 3
   },
   "file_extension": ".py",
   "mimetype": "text/x-python",
   "name": "python",
   "nbconvert_exporter": "python",
   "pygments_lexer": "ipython3",
   "version": "3.10.12"
  }
 },
 "nbformat": 4,
 "nbformat_minor": 5
}
