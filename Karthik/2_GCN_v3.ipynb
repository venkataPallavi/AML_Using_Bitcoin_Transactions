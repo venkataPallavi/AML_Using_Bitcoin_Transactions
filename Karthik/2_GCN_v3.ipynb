{
 "cells": [
  {
   "cell_type": "markdown",
   "metadata": {
    "id": "xMP_bxKcdcHb"
   },
   "source": [
    "# Applying a GCN to the elliptic Bitcoin blockchain transaction dataset"
   ]
  },
  {
   "cell_type": "markdown",
   "metadata": {
    "id": "DjMJoYhfp4l1"
   },
   "source": [
    "the design of the model is based on the famous paper \"Design Space for Graph Neural Networks\"\n"
   ]
  },
  {
   "cell_type": "markdown",
   "metadata": {
    "id": "CFEMEatTdaAN"
   },
   "source": [
    "## Prepare and inspect the data\n",
    "\n",
    "1.   edges, each row contains two TxIDs representing the connection between two transactions\n",
    "2.   classes, contains a class for each transaction. The are three classes, lecit, illecit and unknwown\n",
    "3.   features, contains all the features for each transaction. This includes a set of fetures of the node itself and a set of features obtained from the connected nodes.\n",
    "\n"
   ]
  },
  {
   "cell_type": "markdown",
   "metadata": {
    "id": "ZOr0XGx-9oOa"
   },
   "source": [
    "### imports"
   ]
  },
  {
   "cell_type": "code",
   "execution_count": 33,
   "metadata": {
    "id": "SZDELv3SMrKh"
   },
   "outputs": [],
   "source": [
    "import os\n",
    "import pandas as pd\n",
    "import numpy as np\n",
    "import networkx as nx\n",
    "import matplotlib.pyplot as plt\n",
    "import tensorflow as tf\n",
    "from tensorflow import keras\n",
    "from tensorflow.keras import layers\n",
    "import sklearn\n"
   ]
  },
  {
   "cell_type": "code",
   "execution_count": 34,
   "metadata": {
    "id": "CfjD1fXne_iO"
   },
   "outputs": [],
   "source": [
    "def run_experiment(model, x_train, y_train):\n",
    "    # Compile the model.\n",
    "    model.compile(\n",
    "        optimizer=keras.optimizers.Adam(learning_rate),\n",
    "        loss=keras.losses.SparseCategoricalCrossentropy(from_logits=True),\n",
    "        metrics=[keras.metrics.SparseCategoricalAccuracy(name=\"acc\")],\n",
    "    )\n",
    "    # Create an early stopping callback.\n",
    "    early_stopping = keras.callbacks.EarlyStopping(\n",
    "        monitor=\"val_acc\", patience=10, restore_best_weights=True\n",
    "    )\n",
    "    # Fit the model.\n",
    "    history = model.fit(\n",
    "        x=x_train,\n",
    "        y=y_train,\n",
    "        epochs=num_epochs,\n",
    "        batch_size=batch_size,\n",
    "        validation_split=0.15,\n",
    "        callbacks=[early_stopping],\n",
    "    )\n",
    "\n",
    "    return history\n"
   ]
  },
  {
   "cell_type": "code",
   "execution_count": 35,
   "metadata": {
    "id": "aai3RemOPAFI"
   },
   "outputs": [],
   "source": [
    "\n",
    "def display_learning_curves(history):\n",
    "    fig, (ax1, ax2) = plt.subplots(1, 2, figsize=(15, 5))\n",
    "\n",
    "    ax1.plot(history.history[\"loss\"])\n",
    "    ax1.plot(history.history[\"val_loss\"])\n",
    "    ax1.legend([\"train\", \"test\"], loc=\"upper right\")\n",
    "    ax1.set_xlabel(\"Epochs\")\n",
    "    ax1.set_ylabel(\"Loss\")\n",
    "\n",
    "    ax2.plot(history.history[\"acc\"])\n",
    "    ax2.plot(history.history[\"val_acc\"])\n",
    "    ax2.legend([\"train\", \"test\"], loc=\"upper right\")\n",
    "    ax2.set_xlabel(\"Epochs\")\n",
    "    ax2.set_ylabel(\"Accuracy\")\n",
    "    plt.show()\n"
   ]
  },
  {
   "cell_type": "code",
   "execution_count": 36,
   "metadata": {
    "id": "HVsbAKltPCr7"
   },
   "outputs": [],
   "source": [
    "\n",
    "def create_ffn(hidden_units, dropout_rate, name=None):\n",
    "    fnn_layers = []\n",
    "\n",
    "    for units in hidden_units:\n",
    "        fnn_layers.append(layers.BatchNormalization())\n",
    "        fnn_layers.append(layers.Dropout(dropout_rate))\n",
    "        fnn_layers.append(layers.Dense(units, activation=tf.nn.gelu))\n",
    "\n",
    "    return keras.Sequential(fnn_layers, name=name)"
   ]
  },
  {
   "cell_type": "markdown",
   "metadata": {
    "id": "V6SSUhUoPWqd"
   },
   "source": [
    "\n",
    "\n",
    "---\n",
    "\n"
   ]
  },
  {
   "cell_type": "markdown",
   "metadata": {
    "id": "gMNLXOCF9Qby"
   },
   "source": [
    "### data retrival"
   ]
  },
  {
   "cell_type": "code",
   "execution_count": 37,
   "metadata": {
    "id": "lU2jZCzFPnio"
   },
   "outputs": [],
   "source": [
    "edges = pd.read_csv(\"elliptic_txs_edgelist.csv\")\n",
    "features = pd.read_csv(\"elliptic_txs_features.csv\",header=None)\n",
    "classes = pd.read_csv(\"elliptic_txs_classes.csv\")"
   ]
  },
  {
   "cell_type": "code",
   "execution_count": 38,
   "metadata": {
    "colab": {
     "base_uri": "https://localhost:8080/"
    },
    "id": "qWn1usGGeh6S",
    "outputId": "14fb60bb-03ff-4002-d6e6-182a6e211fbe"
   },
   "outputs": [
    {
     "name": "stdout",
     "output_type": "stream",
     "text": [
      "(234355, 2)\n",
      "(203769, 167)\n"
     ]
    }
   ],
   "source": [
    "print(edges.shape)\n",
    "print(features.shape)"
   ]
  },
  {
   "cell_type": "markdown",
   "metadata": {
    "id": "Xbj3gBIQ9whl"
   },
   "source": [
    "### data preparation"
   ]
  },
  {
   "cell_type": "markdown",
   "metadata": {
    "id": "8f9scWH6P5An"
   },
   "source": [
    "Name all the features, differentiate features (only node, multiple nodes) and go for 0 class instead of unknown"
   ]
  },
  {
   "cell_type": "code",
   "execution_count": 39,
   "metadata": {
    "id": "4OunHGzMPqgU"
   },
   "outputs": [],
   "source": [
    "tx_features = [\"tx_feat_\"+str(i) for i in range(2,95)]\n",
    "agg_features = [\"agg_feat_\"+str(i) for i in range(1,73)]\n",
    "features.columns = [\"txId\",\"time_step\"] + tx_features + agg_features\n",
    "\n",
    "#merge features and classes\n",
    "features = pd.merge(features,classes,left_on=\"txId\",right_on=\"txId\",how='left')\n",
    "features['class'] = features['class'].apply(lambda x: '0' if x == \"unknown\" else x)"
   ]
  },
  {
   "cell_type": "markdown",
   "metadata": {
    "id": "SWafpzkXRUbM"
   },
   "source": [
    "In the first part of the analysis we are interested only in the known part of the network. We use the known part so to have a known reference for training.\n"
   ]
  },
  {
   "cell_type": "code",
   "execution_count": 40,
   "metadata": {
    "id": "JFbxQOSrRTd9"
   },
   "outputs": [],
   "source": [
    "# get the features of the known transactions\n",
    "features= features[features['class'] != '0' ]"
   ]
  },
  {
   "cell_type": "code",
   "execution_count": 41,
   "metadata": {
    "id": "j1jyBk_sWCmW"
   },
   "outputs": [],
   "source": [
    "def check(name):\n",
    "  if(name in unique):\n",
    "    return name\n",
    "  else :\n",
    "    return -1"
   ]
  },
  {
   "cell_type": "code",
   "execution_count": 42,
   "metadata": {
    "id": "mN257FzhSY1A"
   },
   "outputs": [],
   "source": [
    "# remove from the edges DF all the entries that mentions the unknown transactions\n",
    "unique = features['txId'].unique()\n",
    "edges[\"txId1\"] = edges[\"txId1\"].apply(lambda name: check(name))\n",
    "edges[\"txId2\"] = edges[\"txId2\"].apply(lambda name: check(name))"
   ]
  },
  {
   "cell_type": "code",
   "execution_count": 43,
   "metadata": {
    "id": "s6k05wOjaorH"
   },
   "outputs": [],
   "source": [
    "edges = edges[edges[\"txId1\"] != -1 ]\n",
    "edges = edges[edges[\"txId2\"] != -1 ]"
   ]
  },
  {
   "cell_type": "code",
   "execution_count": 44,
   "metadata": {
    "colab": {
     "base_uri": "https://localhost:8080/"
    },
    "id": "mP1Pybg4eawf",
    "outputId": "54957777-aae2-4ad9-9c77-265f1870991e"
   },
   "outputs": [
    {
     "name": "stdout",
     "output_type": "stream",
     "text": [
      "(36624, 2)\n",
      "(46564, 168)\n"
     ]
    }
   ],
   "source": [
    "print(edges.shape)\n",
    "print(features.shape)"
   ]
  },
  {
   "cell_type": "markdown",
   "metadata": {
    "id": "FEilajvg99c1"
   },
   "source": [
    "### swap the index"
   ]
  },
  {
   "cell_type": "markdown",
   "metadata": {
    "id": "C_X3nxitQ9SP"
   },
   "source": [
    "Change the txID in both features and edges to a simple index. This makes the computation of the adjency matrix easier"
   ]
  },
  {
   "cell_type": "code",
   "execution_count": 45,
   "metadata": {
    "id": "gHE2VQ1EP4BK"
   },
   "outputs": [],
   "source": [
    "class_values = sorted(features[\"class\"].unique())\n",
    "#we create a new index by sorting the tx_ids and assign to it a number\n",
    "features_idx = {name: idx for idx, name in enumerate(sorted(features[\"txId\"].unique()))}\n",
    "\n",
    "# we then apply this new ids to all te data frames\n",
    "# this helps a lot in computing the adjency matrix, having the ids as the index.\n",
    "features[\"txId\"] = features[\"txId\"].apply(lambda name: features_idx[name])\n",
    "edges[\"txId1\"] = edges[\"txId1\"].apply(lambda name: features_idx[name])\n",
    "edges[\"txId2\"] = edges[\"txId2\"].apply(lambda name: features_idx[name])"
   ]
  },
  {
   "cell_type": "code",
   "execution_count": 46,
   "metadata": {},
   "outputs": [],
   "source": [
    "features.to_csv(\"modified_features.csv\", index=False)"
   ]
  },
  {
   "cell_type": "code",
   "execution_count": 47,
   "metadata": {},
   "outputs": [],
   "source": [
    "edges.to_csv(\"modified_edges.csv\", index=False)"
   ]
  },
  {
   "cell_type": "code",
   "execution_count": 48,
   "metadata": {},
   "outputs": [],
   "source": [
    "classes.to_csv(\"modified_class\",index=False)"
   ]
  },
  {
   "cell_type": "markdown",
   "metadata": {
    "id": "AbNu2ZHX-GzN"
   },
   "source": [
    "### prepare the data for the GCN architecture"
   ]
  },
  {
   "cell_type": "markdown",
   "metadata": {
    "id": "dnL3PTKa_UFc"
   },
   "source": [
    "The GCN works with an asset containing the whole graph. Of course, we give the network only the tx_features, as we are trying to learn all the agg_features ourselves."
   ]
  },
  {
   "cell_type": "code",
   "execution_count": 49,
   "metadata": {
    "colab": {
     "base_uri": "https://localhost:8080/"
    },
    "id": "6U_K8K__dBhb",
    "outputId": "00096c4a-00c2-4a6f-b7b2-e4674de63766"
   },
   "outputs": [
    {
     "name": "stdout",
     "output_type": "stream",
     "text": [
      "Edges shape: (2, 36624)\n",
      "Nodes shape: (46564, 93)\n",
      "edge weights shape: (36624,)\n"
     ]
    }
   ],
   "source": [
    "# Create an edges array (sparse adjacency matrix) of shape [2, num_edges].\n",
    "edges2 = edges[[\"txId1\", \"txId2\"]].to_numpy().T\n",
    "# Create an edge weights array of ones.\n",
    "edge_weights = tf.ones(shape=edges2.shape[1])\n",
    "# Create a node features array of shape [num_nodes, num_features].\n",
    "# IN the next line we select the features to include in the graph\n",
    "# Notice than only tx_features are present!\n",
    "\n",
    "node_features = tf.cast(\n",
    "    features.sort_values(\"txId\")[tx_features].to_numpy(), dtype=tf.dtypes.float32\n",
    ")\n",
    "# Create graph info tuple with node_features, edges, and edge_weights.\n",
    "graph_info = (node_features, edges2, edge_weights)\n",
    "\n",
    "print(\"Edges shape:\", edges2.shape)\n",
    "print(\"Nodes shape:\", node_features.shape)\n",
    "print(\"edge weights shape:\", edge_weights.shape)"
   ]
  },
  {
   "cell_type": "markdown",
   "metadata": {
    "id": "b_W4bDrRdT0y"
   },
   "source": [
    "## Build the GCN model"
   ]
  },
  {
   "cell_type": "code",
   "execution_count": 50,
   "metadata": {
    "id": "B8L_AyL9dX9s"
   },
   "outputs": [],
   "source": [
    "class GraphConvLayer(layers.Layer):\n",
    "    def __init__(\n",
    "        self,\n",
    "        hidden_units,\n",
    "        dropout_rate=0.2,\n",
    "        aggregation_type=\"mean\",\n",
    "        combination_type=\"concat\",\n",
    "        normalize=False,\n",
    "        *args,\n",
    "        **kwargs,\n",
    "    ):\n",
    "        super(GraphConvLayer, self).__init__(*args, **kwargs)\n",
    "\n",
    "        self.aggregation_type = aggregation_type\n",
    "        self.combination_type = combination_type\n",
    "        self.normalize = normalize\n",
    "\n",
    "        self.ffn_prepare = create_ffn(hidden_units, dropout_rate)\n",
    "        if self.combination_type == \"gated\":\n",
    "            self.update_fn = layers.GRU(\n",
    "                units=hidden_units,\n",
    "                activation=\"tanh\",\n",
    "                recurrent_activation=\"sigmoid\",\n",
    "                dropout=dropout_rate,\n",
    "                return_state=True,\n",
    "                recurrent_dropout=dropout_rate,\n",
    "            )\n",
    "        else:\n",
    "            self.update_fn = create_ffn(hidden_units, dropout_rate)\n",
    "\n",
    "    def prepare(self, node_repesentations, weights=None):\n",
    "        # node_repesentations shape is [num_edges, embedding_dim].\n",
    "        messages = self.ffn_prepare(node_repesentations)\n",
    "        if weights is not None:\n",
    "            messages = messages * tf.expand_dims(weights, -1)\n",
    "        return messages\n",
    "\n",
    "    def aggregate(self, node_indices, neighbour_messages):\n",
    "        # node_indices shape is [num_edges].\n",
    "        # neighbour_messages shape: [num_edges, representation_dim].\n",
    "        num_nodes = tf.math.reduce_max(node_indices) + 1\n",
    "        if self.aggregation_type == \"sum\":\n",
    "            aggregated_message = tf.math.unsorted_segment_sum(\n",
    "                neighbour_messages, node_indices, num_segments=num_nodes\n",
    "            )\n",
    "        elif self.aggregation_type == \"mean\":\n",
    "            aggregated_message = tf.math.unsorted_segment_mean(\n",
    "                neighbour_messages, node_indices, num_segments=num_nodes\n",
    "            )\n",
    "        elif self.aggregation_type == \"max\":\n",
    "            aggregated_message = tf.math.unsorted_segment_max(\n",
    "                neighbour_messages, node_indices, num_segments=num_nodes\n",
    "            )\n",
    "        else:\n",
    "            raise ValueError(f\"Invalid aggregation type: {self.aggregation_type}.\")\n",
    "\n",
    "        return aggregated_message\n",
    "\n",
    "    def update(self, node_repesentations, aggregated_messages):\n",
    "        # node_repesentations shape is [num_nodes, representation_dim].\n",
    "        # aggregated_messages shape is [num_nodes, representation_dim].\n",
    "        if self.combination_type == \"gru\":\n",
    "            # Create a sequence of two elements for the GRU layer.\n",
    "            h = tf.stack([node_repesentations, aggregated_messages], axis=1)\n",
    "        elif self.combination_type == \"concat\":\n",
    "            # Concatenate the node_repesentations and aggregated_messages.\n",
    "            h = tf.concat([node_repesentations, aggregated_messages], axis=1)\n",
    "        elif self.combination_type == \"add\":\n",
    "            # Add node_repesentations and aggregated_messages.\n",
    "            h = node_repesentations + aggregated_messages\n",
    "        else:\n",
    "            raise ValueError(f\"Invalid combination type: {self.combination_type}.\")\n",
    "\n",
    "        # Apply the processing function.\n",
    "        node_embeddings = self.update_fn(h)\n",
    "        if self.combination_type == \"gru\":\n",
    "            node_embeddings = tf.unstack(node_embeddings, axis=1)[-1]\n",
    "\n",
    "        if self.normalize:\n",
    "            node_embeddings = tf.nn.l2_normalize(node_embeddings, axis=-1)\n",
    "        return node_embeddings\n",
    "\n",
    "    def call(self, inputs):\n",
    "        \"\"\"Process the inputs to produce the node_embeddings.\n",
    "\n",
    "        inputs: a tuple of three elements: node_repesentations, edges, edge_weights.\n",
    "        Returns: node_embeddings of shape [num_nodes, representation_dim].\n",
    "        \"\"\"\n",
    "\n",
    "        node_repesentations, edges, edge_weights = inputs\n",
    "        # Get node_indices (source) and neighbour_indices (target) from edges.\n",
    "        node_indices, neighbour_indices = edges[0], edges[1]\n",
    "        # neighbour_repesentations shape is [num_edges, representation_dim].\n",
    "        neighbour_repesentations = tf.gather(node_repesentations, neighbour_indices)\n",
    "\n",
    "        # Prepare the messages of the neighbours.\n",
    "        neighbour_messages = self.prepare(neighbour_repesentations, edge_weights)\n",
    "        # Aggregate the neighbour messages.\n",
    "        aggregated_messages = self.aggregate(node_indices, neighbour_messages)\n",
    "        # Update the node embedding with the neighbour messages.\n",
    "        return self.update(node_repesentations, aggregated_messages)\n"
   ]
  },
  {
   "cell_type": "code",
   "execution_count": 51,
   "metadata": {
    "id": "rN3YYGsKdtC0"
   },
   "outputs": [],
   "source": [
    "class GNNNodeClassifier(tf.keras.Model):\n",
    "    def __init__(\n",
    "        self,\n",
    "        graph_info,\n",
    "        num_classes,\n",
    "        hidden_units,\n",
    "        aggregation_type=\"sum\",\n",
    "        combination_type=\"concat\",\n",
    "        dropout_rate=0.2,\n",
    "        normalize=True,\n",
    "        *args,\n",
    "        **kwargs,\n",
    "    ):\n",
    "        super(GNNNodeClassifier, self).__init__(*args, **kwargs)\n",
    "\n",
    "        # Unpack graph_info to three elements: node_features, edges, and edge_weight.\n",
    "        node_features, edges, edge_weights = graph_info\n",
    "        self.node_features = node_features\n",
    "        self.edges = edges\n",
    "        self.edge_weights = edge_weights\n",
    "        # Set edge_weights to ones if not provided.\n",
    "        if self.edge_weights is None:\n",
    "            self.edge_weights = tf.ones(shape=edges.shape[1])\n",
    "        # Scale edge_weights to sum to 1.\n",
    "        self.edge_weights = self.edge_weights / tf.math.reduce_sum(self.edge_weights)\n",
    "\n",
    "        # Create a process layer.\n",
    "        self.preprocess = create_ffn(hidden_units, dropout_rate, name=\"preprocess\")\n",
    "        # Create the first GraphConv layer.\n",
    "        self.conv1 = GraphConvLayer(\n",
    "            hidden_units,\n",
    "            dropout_rate,\n",
    "            aggregation_type,\n",
    "            combination_type,\n",
    "            normalize,\n",
    "            name=\"graph_conv1\",\n",
    "        )\n",
    "        # Create the second GraphConv layer.\n",
    "        self.conv2 = GraphConvLayer(\n",
    "            hidden_units,\n",
    "            dropout_rate,\n",
    "            aggregation_type,\n",
    "            combination_type,\n",
    "            normalize,\n",
    "            name=\"graph_conv2\",\n",
    "        )\n",
    "        # Create a postprocess layer.\n",
    "        self.postprocess = create_ffn(hidden_units, dropout_rate, name=\"postprocess\")\n",
    "        # Create a compute logits layer.\n",
    "        self.compute_logits = layers.Dense(units=num_classes, name=\"logits\")\n",
    "\n",
    "    def call(self, input_node_indices):\n",
    "        # Preprocess the node_features to produce node representations.\n",
    "        x = self.preprocess(self.node_features)\n",
    "        # Apply the first graph conv layer.\n",
    "        x1 = self.conv1((x, self.edges, self.edge_weights))\n",
    "        # Skip connection.\n",
    "        x = x1 + x\n",
    "        # Apply the second graph conv layer.\n",
    "        x2 = self.conv2((x, self.edges, self.edge_weights))\n",
    "        # Skip connection.\n",
    "        x = x2 + x\n",
    "        # Postprocess node embedding.\n",
    "        x = self.postprocess(x)\n",
    "        # Fetch node embeddings for the input node_indices.\n",
    "        node_embeddings = tf.gather(x, input_node_indices)\n",
    "        # Compute logits\n",
    "        return self.compute_logits(node_embeddings)\n"
   ]
  },
  {
   "cell_type": "markdown",
   "metadata": {
    "id": "t8dJI64C-VpT"
   },
   "source": [
    "### set the hyperparameters"
   ]
  },
  {
   "cell_type": "code",
   "execution_count": 52,
   "metadata": {
    "colab": {
     "base_uri": "https://localhost:8080/"
    },
    "id": "r4AQMVlOdJEu",
    "outputId": "f6ef9797-dc1b-4934-e182-e41946d735df"
   },
   "outputs": [
    {
     "name": "stdout",
     "output_type": "stream",
     "text": [
      "num classes =  2\n"
     ]
    }
   ],
   "source": [
    "# Define the parameters for the network\n",
    "\n",
    "num_classes = len(class_values)\n",
    "print(\"num classes = \" , num_classes)\n",
    "\n",
    "hidden_units = [32, 32]\n",
    "learning_rate = 0.007\n",
    "dropout_rate = 0.6\n",
    "#0.5\n",
    "num_epochs = 30\n",
    "batch_size = 256\n",
    "#256"
   ]
  },
  {
   "cell_type": "code",
   "execution_count": 53,
   "metadata": {
    "colab": {
     "base_uri": "https://localhost:8080/"
    },
    "id": "MN6q0BVFdz7g",
    "outputId": "99ee2994-eab4-4546-ae12-5107f889eca0"
   },
   "outputs": [
    {
     "name": "stdout",
     "output_type": "stream",
     "text": [
      "GNN output shape: tf.Tensor(\n",
      "[[ 5.3252435   1.1248459 ]\n",
      " [ 0.30379948 -0.08608411]\n",
      " [ 0.05068412  0.09529878]], shape=(3, 2), dtype=float32)\n",
      "Model: \"gnn_model\"\n",
      "_________________________________________________________________\n",
      " Layer (type)                Output Shape              Param #   \n",
      "=================================================================\n",
      " preprocess (Sequential)     (46564, 32)               4564      \n",
      "                                                                 \n",
      " graph_conv1 (GraphConvLayer  multiple                 5888      \n",
      " )                                                               \n",
      "                                                                 \n",
      " graph_conv2 (GraphConvLayer  multiple                 5888      \n",
      " )                                                               \n",
      "                                                                 \n",
      " postprocess (Sequential)    (46564, 32)               2368      \n",
      "                                                                 \n",
      " logits (Dense)              multiple                  66        \n",
      "                                                                 \n",
      "=================================================================\n",
      "Total params: 18,774\n",
      "Trainable params: 17,756\n",
      "Non-trainable params: 1,018\n",
      "_________________________________________________________________\n"
     ]
    }
   ],
   "source": [
    "gnn_model = GNNNodeClassifier(\n",
    "    graph_info=graph_info,\n",
    "    num_classes=num_classes,\n",
    "    hidden_units=hidden_units,\n",
    "    dropout_rate=dropout_rate,\n",
    "    name=\"gnn_model\",\n",
    ")\n",
    "\n",
    "print(\"GNN output shape:\", gnn_model([1,10,100]))\n",
    "\n",
    "gnn_model.summary()"
   ]
  },
  {
   "cell_type": "markdown",
   "metadata": {
    "id": "G6uF8iedenri"
   },
   "source": [
    "## Train the model"
   ]
  },
  {
   "cell_type": "code",
   "execution_count": 54,
   "metadata": {
    "id": "AFqlM_UMerPI"
   },
   "outputs": [],
   "source": [
    "from sklearn.model_selection import train_test_split\n",
    "\n",
    "X = features[tx_features + ['txId'] ]\n",
    "y = features['class']\n",
    "y = y.apply(lambda x: 0 if x == '2' else 1 )\n",
    "X_train, X_test, y_train, y_test = train_test_split(X,y,test_size=0.3,random_state=117,shuffle=True)"
   ]
  },
  {
   "cell_type": "code",
   "execution_count": 55,
   "metadata": {
    "colab": {
     "base_uri": "https://localhost:8080/"
    },
    "id": "hISawx7HgWxb",
    "outputId": "0b10b494-b4e0-4777-e9bf-2860f595209b"
   },
   "outputs": [
    {
     "name": "stdout",
     "output_type": "stream",
     "text": [
      "Epoch 1/30\n",
      "109/109 [==============================] - 23s 197ms/step - loss: 0.3374 - acc: 0.8904 - val_loss: 0.2869 - val_acc: 0.9110\n",
      "Epoch 2/30\n",
      "109/109 [==============================] - 23s 210ms/step - loss: 0.2860 - acc: 0.8982 - val_loss: 0.1908 - val_acc: 0.9110\n",
      "Epoch 3/30\n",
      "109/109 [==============================] - 25s 233ms/step - loss: 0.2562 - acc: 0.9001 - val_loss: 0.1963 - val_acc: 0.9110\n",
      "Epoch 4/30\n",
      "109/109 [==============================] - 25s 231ms/step - loss: 0.2291 - acc: 0.9145 - val_loss: 0.2187 - val_acc: 0.9110\n",
      "Epoch 5/30\n",
      "109/109 [==============================] - 26s 236ms/step - loss: 0.2107 - acc: 0.9295 - val_loss: 0.1786 - val_acc: 0.9110\n",
      "Epoch 6/30\n",
      "109/109 [==============================] - 23s 212ms/step - loss: 0.2025 - acc: 0.9343 - val_loss: 0.1609 - val_acc: 0.9569\n",
      "Epoch 7/30\n",
      "109/109 [==============================] - 23s 213ms/step - loss: 0.2000 - acc: 0.9378 - val_loss: 0.1324 - val_acc: 0.9695\n",
      "Epoch 8/30\n",
      "109/109 [==============================] - 23s 213ms/step - loss: 0.1906 - acc: 0.9408 - val_loss: 0.1258 - val_acc: 0.9685\n",
      "Epoch 9/30\n",
      "109/109 [==============================] - 23s 213ms/step - loss: 0.1863 - acc: 0.9433 - val_loss: 0.1194 - val_acc: 0.9712\n",
      "Epoch 10/30\n",
      "109/109 [==============================] - 23s 213ms/step - loss: 0.1854 - acc: 0.9418 - val_loss: 0.1182 - val_acc: 0.9697\n",
      "Epoch 11/30\n",
      "109/109 [==============================] - 23s 212ms/step - loss: 0.1822 - acc: 0.9441 - val_loss: 0.1180 - val_acc: 0.9718\n",
      "Epoch 12/30\n",
      "109/109 [==============================] - 23s 210ms/step - loss: 0.1828 - acc: 0.9447 - val_loss: 0.1108 - val_acc: 0.9736\n",
      "Epoch 13/30\n",
      "109/109 [==============================] - 23s 212ms/step - loss: 0.1796 - acc: 0.9450 - val_loss: 0.1142 - val_acc: 0.9753\n",
      "Epoch 14/30\n",
      "109/109 [==============================] - 23s 212ms/step - loss: 0.1773 - acc: 0.9456 - val_loss: 0.1164 - val_acc: 0.9661\n",
      "Epoch 15/30\n",
      "109/109 [==============================] - 23s 209ms/step - loss: 0.1761 - acc: 0.9447 - val_loss: 0.1099 - val_acc: 0.9718\n",
      "Epoch 16/30\n",
      "109/109 [==============================] - 23s 213ms/step - loss: 0.1726 - acc: 0.9455 - val_loss: 0.1228 - val_acc: 0.9640\n",
      "Epoch 17/30\n",
      "109/109 [==============================] - 24s 222ms/step - loss: 0.1681 - acc: 0.9483 - val_loss: 0.1117 - val_acc: 0.9726\n",
      "Epoch 18/30\n",
      "109/109 [==============================] - 23s 211ms/step - loss: 0.1693 - acc: 0.9471 - val_loss: 0.1031 - val_acc: 0.9734\n",
      "Epoch 19/30\n",
      "109/109 [==============================] - 24s 222ms/step - loss: 0.1637 - acc: 0.9493 - val_loss: 0.1051 - val_acc: 0.9753\n",
      "Epoch 20/30\n",
      "109/109 [==============================] - 25s 228ms/step - loss: 0.1632 - acc: 0.9504 - val_loss: 0.1045 - val_acc: 0.9757\n",
      "Epoch 21/30\n",
      "109/109 [==============================] - 24s 221ms/step - loss: 0.1584 - acc: 0.9511 - val_loss: 0.1052 - val_acc: 0.9755\n",
      "Epoch 22/30\n",
      "109/109 [==============================] - 24s 221ms/step - loss: 0.1650 - acc: 0.9484 - val_loss: 0.1068 - val_acc: 0.9781\n",
      "Epoch 23/30\n",
      "109/109 [==============================] - 23s 212ms/step - loss: 0.1611 - acc: 0.9520 - val_loss: 0.1051 - val_acc: 0.9763\n",
      "Epoch 24/30\n",
      "109/109 [==============================] - 23s 209ms/step - loss: 0.1617 - acc: 0.9502 - val_loss: 0.1093 - val_acc: 0.9771\n",
      "Epoch 25/30\n",
      "109/109 [==============================] - 23s 211ms/step - loss: 0.1595 - acc: 0.9500 - val_loss: 0.1038 - val_acc: 0.9757\n",
      "Epoch 26/30\n",
      "109/109 [==============================] - 23s 211ms/step - loss: 0.1575 - acc: 0.9531 - val_loss: 0.1106 - val_acc: 0.9726\n",
      "Epoch 27/30\n",
      "109/109 [==============================] - 23s 213ms/step - loss: 0.1582 - acc: 0.9518 - val_loss: 0.1018 - val_acc: 0.9763\n",
      "Epoch 28/30\n",
      "109/109 [==============================] - 23s 214ms/step - loss: 0.1547 - acc: 0.9533 - val_loss: 0.1058 - val_acc: 0.9777\n",
      "Epoch 29/30\n",
      "109/109 [==============================] - 23s 216ms/step - loss: 0.1528 - acc: 0.9543 - val_loss: 0.1000 - val_acc: 0.9763\n",
      "Epoch 30/30\n",
      "109/109 [==============================] - 23s 212ms/step - loss: 0.1529 - acc: 0.9551 - val_loss: 0.1057 - val_acc: 0.9740\n"
     ]
    }
   ],
   "source": [
    "# for training I only need txID, everything else is already in the network\n",
    "x_train = X_train.txId.to_numpy()\n",
    "history = run_experiment(gnn_model, x_train, y_train)"
   ]
  },
  {
   "cell_type": "code",
   "execution_count": 56,
   "metadata": {
    "colab": {
     "base_uri": "https://localhost:8080/",
     "height": 467
    },
    "id": "vF6rgI9tgx49",
    "outputId": "2d1d61bd-e91d-4ad9-f02b-85c0d812791d"
   },
   "outputs": [
    {
     "data": {
      "image/png": "[encoded data removed]",
      "text/plain": [
       "<Figure size 1500x500 with 2 Axes>"
      ]
     },
     "metadata": {},
     "output_type": "display_data"
    }
   ],
   "source": [
    "display_learning_curves(history)"
   ]
  },
  {
   "cell_type": "code",
   "execution_count": 57,
   "metadata": {
    "id": "UPaa-zU2UkU4"
   },
   "outputs": [],
   "source": [
    "x_test = X_test.txId.to_numpy()"
   ]
  },
  {
   "cell_type": "markdown",
   "metadata": {
    "id": "GNg-wNVSjiKE"
   },
   "source": [
    "## Test the results"
   ]
  },
  {
   "cell_type": "code",
   "execution_count": 58,
   "metadata": {
    "colab": {
     "base_uri": "https://localhost:8080/"
    },
    "id": "bd1TDwppg0SI",
    "outputId": "c4726ae4-7a7c-41bf-e698-41afe62f0187"
   },
   "outputs": [
    {
     "name": "stdout",
     "output_type": "stream",
     "text": [
      "Test accuracy: 97.12%\n"
     ]
    }
   ],
   "source": [
    "_, test_accuracy = gnn_model.evaluate(x=x_test, y=y_test, verbose=0)\n",
    "print(f\"Test accuracy: {round(test_accuracy * 100, 2)}%\")"
   ]
  },
  {
   "cell_type": "code",
   "execution_count": 59,
   "metadata": {
    "colab": {
     "base_uri": "https://localhost:8080/"
    },
    "id": "v3aSDn2bg2Ir",
    "outputId": "3b6f375f-029e-4230-9e6f-8b018008123e"
   },
   "outputs": [],
   "source": [
    "preds = gnn_model.predict(x_test)"
   ]
  },
  {
   "cell_type": "code",
   "execution_count": 60,
   "metadata": {
    "id": "LK68Cg0Fg4kl"
   },
   "outputs": [],
   "source": [
    "norm_preds = sklearn.preprocessing.normalize(preds)\n",
    "\n",
    "y_predicted = []\n",
    "for pred in norm_preds:\n",
    "  if pred[0] > pred[1]:\n",
    "    y_predicted.append(0)\n",
    "  else :\n",
    "    y_predicted.append(1)"
   ]
  },
  {
   "cell_type": "code",
   "execution_count": 61,
   "metadata": {
    "colab": {
     "base_uri": "https://localhost:8080/"
    },
    "id": "iAHGJplzjgP6",
    "outputId": "9adb2791-54cc-47a5-fdda-a47f556232e3"
   },
   "outputs": [
    {
     "name": "stdout",
     "output_type": "stream",
     "text": [
      "Convoluted neural network\n",
      "Precision:0.895 \n",
      "Recall:0.787 \n",
      "F1 Score:0.837\n",
      "Micro-Average F1 Score: 0.9711524695776664\n"
     ]
    }
   ],
   "source": [
    "prec,rec,f1,num = sklearn.metrics.precision_recall_fscore_support(y_test,y_predicted, average=None)\n",
    "print(\"Convoluted neural network\")\n",
    "print(\"Precision:%.3f \\nRecall:%.3f \\nF1 Score:%.3f\"%(prec[1],rec[1],f1[1]))\n",
    "micro_f1 = sklearn.metrics.f1_score(y_test,y_predicted,average='micro')\n",
    "print(\"Micro-Average F1 Score:\",micro_f1)"
   ]
  },
  {
   "cell_type": "markdown",
   "metadata": {
    "id": "FzayduCx_R0W"
   },
   "source": [
    "#### save weights\n",
    "\n"
   ]
  },
  {
   "cell_type": "code",
   "execution_count": 62,
   "metadata": {
    "id": "uDgTvqQm-VbZ"
   },
   "outputs": [],
   "source": [
    "gnn_model.save_weights('/home/karthik/final/Depro', save_format='tf')"
   ]
  },
  {
   "cell_type": "code",
   "execution_count": 63,
   "metadata": {},
   "outputs": [
    {
     "name": "stdout",
     "output_type": "stream",
     "text": [
      "INFO:tensorflow:Assets written to: /home/karthik/final/assets\n"
     ]
    }
   ],
   "source": [
    "gnn_model.save('/home/karthik/final')"
   ]
  },
  {
   "cell_type": "markdown",
   "metadata": {
    "id": "dvNih1DP82yB"
   },
   "source": [
    "# Loading the model"
   ]
  },
  {
   "cell_type": "code",
   "execution_count": 64,
   "metadata": {
    "colab": {
     "base_uri": "https://localhost:8080/"
    },
    "id": "RJgeFCdGXKpe",
    "outputId": "676ea33f-da57-4897-a154-42c6b8b590ae"
   },
   "outputs": [
    {
     "data": {
      "text/plain": [
       "<tensorflow.python.training.tracking.util.CheckpointLoadStatus at 0x7f02ece20970>"
      ]
     },
     "execution_count": 64,
     "metadata": {},
     "output_type": "execute_result"
    }
   ],
   "source": [
    "client_model = GNNNodeClassifier(\n",
    "    graph_info=graph_info,\n",
    "    num_classes=num_classes,\n",
    "    hidden_units=hidden_units,\n",
    "    dropout_rate=dropout_rate,\n",
    "    name=\"gnn_client_model\",\n",
    ")\n",
    "\n",
    "client_model.compile(\n",
    "        optimizer=keras.optimizers.Adam(learning_rate),\n",
    "        loss=keras.losses.SparseCategoricalCrossentropy(from_logits=True),\n",
    "        metrics=[keras.metrics.SparseCategoricalAccuracy(name=\"acc\")],\n",
    "    )\n",
    "\n",
    "# Load the state of the old model\n",
    "client_model.load_weights('/home/karthik/final/Depro')"
   ]
  },
  {
   "cell_type": "code",
   "execution_count": 65,
   "metadata": {
    "colab": {
     "base_uri": "https://localhost:8080/"
    },
    "id": "OsqdRmLCYVuV",
    "outputId": "48d962ef-3956-4a26-b75f-a19cdd122c40"
   },
   "outputs": [
    {
     "name": "stdout",
     "output_type": "stream",
     "text": [
      "Convoluted neural network\n",
      "Precision:0.895 \n",
      "Recall:0.787 \n",
      "F1 Score:0.837\n",
      "Micro-Average F1 Score: 0.9711524695776664\n"
     ]
    }
   ],
   "source": [
    "preds = client_model.predict(x_test)\n",
    "\n",
    "norm_preds = sklearn.preprocessing.normalize(preds)\n",
    "\n",
    "y_predicted = []\n",
    "for pred in norm_preds:\n",
    "  if pred[0] > pred[1]:\n",
    "    y_predicted.append(0)\n",
    "  else :\n",
    "    y_predicted.append(1)\n",
    "\n",
    "prec,rec,f1,num = sklearn.metrics.precision_recall_fscore_support(y_test,y_predicted, average=None)\n",
    "print(\"Convoluted neural network\")\n",
    "print(\"Precision:%.3f \\nRecall:%.3f \\nF1 Score:%.3f\"%(prec[1],rec[1],f1[1]))\n",
    "micro_f1 = sklearn.metrics.f1_score(y_test,y_predicted,average='micro')\n",
    "print(\"Micro-Average F1 Score:\",micro_f1)"
   ]
  },
  {
   "cell_type": "code",
   "execution_count": 66,
   "metadata": {},
   "outputs": [],
   "source": [
    "compare = pd.read_csv(\"compare.csv\",usecols=[0,1,2,3,4])"
   ]
  },
  {
   "cell_type": "code",
   "execution_count": 67,
   "metadata": {},
   "outputs": [
    {
     "data": {
      "text/html": [
       "<div>\n",
       "<style scoped>\n",
       "    .dataframe tbody tr th:only-of-type {\n",
       "        vertical-align: middle;\n",
       "    }\n",
       "\n",
       "    .dataframe tbody tr th {\n",
       "        vertical-align: top;\n",
       "    }\n",
       "\n",
       "    .dataframe thead th {\n",
       "        text-align: right;\n",
       "    }\n",
       "</style>\n",
       "<table border=\"1\" class=\"dataframe\">\n",
       "  <thead>\n",
       "    <tr style=\"text-align: right;\">\n",
       "      <th></th>\n",
       "      <th>Model</th>\n",
       "      <th>Precision</th>\n",
       "      <th>Recall</th>\n",
       "      <th>F1 Score</th>\n",
       "      <th>M.A F1 Score</th>\n",
       "    </tr>\n",
       "  </thead>\n",
       "  <tbody>\n",
       "    <tr>\n",
       "      <th>0</th>\n",
       "      <td>Random Forest Classifier (IX)</td>\n",
       "      <td>0.909</td>\n",
       "      <td>0.048</td>\n",
       "      <td>0.757</td>\n",
       "      <td>0.974</td>\n",
       "    </tr>\n",
       "    <tr>\n",
       "      <th>1</th>\n",
       "      <td>Random Forest Classifier (lx + agg)</td>\n",
       "      <td>0.981</td>\n",
       "      <td>0.651</td>\n",
       "      <td>0.782</td>\n",
       "      <td>0.977</td>\n",
       "    </tr>\n",
       "    <tr>\n",
       "      <th>2</th>\n",
       "      <td>Logistic Regression (IX)</td>\n",
       "      <td>0.515</td>\n",
       "      <td>0.046</td>\n",
       "      <td>0.573</td>\n",
       "      <td>0.939</td>\n",
       "    </tr>\n",
       "    <tr>\n",
       "      <th>3</th>\n",
       "      <td>Logistic Regression (lx + agg)</td>\n",
       "      <td>0.456</td>\n",
       "      <td>0.630</td>\n",
       "      <td>0.529</td>\n",
       "      <td>0.929</td>\n",
       "    </tr>\n",
       "    <tr>\n",
       "      <th>4</th>\n",
       "      <td>MLP (IX)</td>\n",
       "      <td>0.856</td>\n",
       "      <td>0.595</td>\n",
       "      <td>0.702</td>\n",
       "      <td>0.968</td>\n",
       "    </tr>\n",
       "    <tr>\n",
       "      <th>5</th>\n",
       "      <td>MLP (lx + agg)</td>\n",
       "      <td>0.843</td>\n",
       "      <td>0.612</td>\n",
       "      <td>0.709</td>\n",
       "      <td>0.968</td>\n",
       "    </tr>\n",
       "    <tr>\n",
       "      <th>6</th>\n",
       "      <td>KNeighborsClassifier (IX)</td>\n",
       "      <td>0.762</td>\n",
       "      <td>0.629</td>\n",
       "      <td>0.689</td>\n",
       "      <td>0.984</td>\n",
       "    </tr>\n",
       "    <tr>\n",
       "      <th>7</th>\n",
       "      <td>KNeighborsClassifier (lx + agg)</td>\n",
       "      <td>0.730</td>\n",
       "      <td>0.576</td>\n",
       "      <td>0.644</td>\n",
       "      <td>0.960</td>\n",
       "    </tr>\n",
       "    <tr>\n",
       "      <th>8</th>\n",
       "      <td>SVC (IX)</td>\n",
       "      <td>0.842</td>\n",
       "      <td>0.634</td>\n",
       "      <td>0.703</td>\n",
       "      <td>0.968</td>\n",
       "    </tr>\n",
       "    <tr>\n",
       "      <th>9</th>\n",
       "      <td>SVC (lx + agg)</td>\n",
       "      <td>0.862</td>\n",
       "      <td>0.588</td>\n",
       "      <td>0.699</td>\n",
       "      <td>0.968</td>\n",
       "    </tr>\n",
       "  </tbody>\n",
       "</table>\n",
       "</div>"
      ],
      "text/plain": [
       "                                 Model  Precision  Recall  F1 Score  \\\n",
       "0        Random Forest Classifier (IX)      0.909   0.048     0.757   \n",
       "1  Random Forest Classifier (lx + agg)      0.981   0.651     0.782   \n",
       "2             Logistic Regression (IX)      0.515   0.046     0.573   \n",
       "3       Logistic Regression (lx + agg)      0.456   0.630     0.529   \n",
       "4                             MLP (IX)      0.856   0.595     0.702   \n",
       "5                       MLP (lx + agg)      0.843   0.612     0.709   \n",
       "6            KNeighborsClassifier (IX)      0.762   0.629     0.689   \n",
       "7      KNeighborsClassifier (lx + agg)      0.730   0.576     0.644   \n",
       "8                             SVC (IX)      0.842   0.634     0.703   \n",
       "9                       SVC (lx + agg)      0.862   0.588     0.699   \n",
       "\n",
       "   M.A F1 Score  \n",
       "0         0.974  \n",
       "1         0.977  \n",
       "2         0.939  \n",
       "3         0.929  \n",
       "4         0.968  \n",
       "5         0.968  \n",
       "6         0.984  \n",
       "7         0.960  \n",
       "8         0.968  \n",
       "9         0.968  "
      ]
     },
     "execution_count": 67,
     "metadata": {},
     "output_type": "execute_result"
    }
   ],
   "source": [
    "compare.head(10)"
   ]
  },
  {
   "cell_type": "code",
   "execution_count": 68,
   "metadata": {},
   "outputs": [
    {
     "name": "stderr",
     "output_type": "stream",
     "text": [
      "/tmp/ipykernel_24670/984036192.py:10: FutureWarning: The behavior of DataFrame concatenation with empty or all-NA entries is deprecated. In a future version, this will no longer exclude empty or all-NA columns when determining the result dtypes. To retain the old behavior, exclude the relevant entries before the concat operation.\n",
      "  compare = pd.concat([compare, pd.DataFrame({'Model': [\"GCN\"],\n"
     ]
    }
   ],
   "source": [
    "compare = pd.DataFrame(columns=['model', 'Precision', 'Recall', 'F1 Score', 'M.A F1 Score'])\n",
    "\n",
    "# Example data\n",
    "prec = [0.8, 0.9]\n",
    "rec = [0.7, 0.85]\n",
    "f1 = [0.75, 0.87]\n",
    "micro_f1 = 0.82\n",
    "\n",
    "# Use the append method\n",
    "compare = pd.concat([compare, pd.DataFrame({'Model': [\"GCN\"],\n",
    "                                             'Precision': [np.round(prec[1], 3)],\n",
    "                                             'Recall': [np.round(rec[1], 3)],\n",
    "                                             'F1 Score': [np.round(f1[1], 3)],\n",
    "                                             'M.A F1 Score': [np.round(micro_f1, 3)]})], ignore_index=True)"
   ]
  },
  {
   "cell_type": "code",
   "execution_count": 69,
   "metadata": {},
   "outputs": [
    {
     "data": {
      "text/html": [
       "<div>\n",
       "<style scoped>\n",
       "    .dataframe tbody tr th:only-of-type {\n",
       "        vertical-align: middle;\n",
       "    }\n",
       "\n",
       "    .dataframe tbody tr th {\n",
       "        vertical-align: top;\n",
       "    }\n",
       "\n",
       "    .dataframe thead th {\n",
       "        text-align: right;\n",
       "    }\n",
       "</style>\n",
       "<table border=\"1\" class=\"dataframe\">\n",
       "  <thead>\n",
       "    <tr style=\"text-align: right;\">\n",
       "      <th></th>\n",
       "      <th>model</th>\n",
       "      <th>Precision</th>\n",
       "      <th>Recall</th>\n",
       "      <th>F1 Score</th>\n",
       "      <th>M.A F1 Score</th>\n",
       "      <th>Model</th>\n",
       "    </tr>\n",
       "  </thead>\n",
       "  <tbody>\n",
       "    <tr>\n",
       "      <th>0</th>\n",
       "      <td>NaN</td>\n",
       "      <td>0.9</td>\n",
       "      <td>0.85</td>\n",
       "      <td>0.87</td>\n",
       "      <td>0.82</td>\n",
       "      <td>GCN</td>\n",
       "    </tr>\n",
       "  </tbody>\n",
       "</table>\n",
       "</div>"
      ],
      "text/plain": [
       "  model  Precision  Recall  F1 Score  M.A F1 Score Model\n",
       "0   NaN        0.9    0.85      0.87          0.82   GCN"
      ]
     },
     "execution_count": 69,
     "metadata": {},
     "output_type": "execute_result"
    }
   ],
   "source": [
    "compare.head(10)"
   ]
  },
  {
   "cell_type": "code",
   "execution_count": 70,
   "metadata": {},
   "outputs": [
    {
     "data": {
      "image/png": "[encoded data removed]",
      "text/plain": [
       "<Figure size 600x1000 with 1 Axes>"
      ]
     },
     "metadata": {},
     "output_type": "display_data"
    }
   ],
   "source": [
    "\n",
    "labels = compare['Model'].to_numpy()\n",
    "precision = compare['Precision'].to_numpy()\n",
    "recall = compare['Recall'].to_numpy()\n",
    "f1 = compare['F1 Score'].to_numpy()\n",
    "maf1 = compare['M.A F1 Score'].to_numpy()\n",
    "\n",
    "x = np.arange(len(labels))  # the label locations\n",
    "width = 0.55  # the width of the bars\n",
    "fig, ax = plt.subplots(figsize=(6, 10))\n",
    "f1_rects = ax.bar(x, f1, width, label='F1 Score',color='#f2b37b')\n",
    "MAf1_rects = ax.bar(x , maf1, width, label='M.A. F1 Score',color='#7b8bf2',bottom=f1)\n",
    "prec_rects = ax.bar(x, precision, width, label='Precision',color='#83f27b',bottom=maf1 + f1)\n",
    "rec_rects = ax.bar(x, recall, width, label='Recall',color='#f27b83',bottom=maf1 + f1 + precision)\n",
    "\n",
    "ax.set_ylabel('value 0-1')\n",
    "ax.set_title('Final metrics by classifier')\n",
    "ax.set_xticks(np.arange(0,len(labels),1))\n",
    "ax.set_yticks(np.arange(0,4,0.1))\n",
    "ax.set_xticklabels(labels=labels)\n",
    "ax.legend()\n",
    "\n",
    "plt.xticks(rotation=90)\n",
    "plt.grid(True)\n",
    "fig.tight_layout()\n",
    "plt.show()"
   ]
  },
  {
   "cell_type": "code",
   "execution_count": null,
   "metadata": {},
   "outputs": [],
   "source": []
  }
 ],
 "metadata": {
  "accelerator": "GPU",
  "colab": {
   "provenance": []
  },
  "kernelspec": {
   "display_name": "Python 3 (ipykernel)",
   "language": "python",
   "name": "python3"
  },
  "language_info": {
   "codemirror_mode": {
    "name": "ipython",
    "version": 3
   },
   "file_extension": ".py",
   "mimetype": "text/x-python",
   "name": "python",
   "nbconvert_exporter": "python",
   "pygments_lexer": "ipython3",
   "version": "3.10.12"
  }
 },
 "nbformat": 4,
 "nbformat_minor": 4
}
